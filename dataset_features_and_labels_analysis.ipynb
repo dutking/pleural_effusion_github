{
  "cells": [
    {
      "attachments": {},
      "cell_type": "markdown",
      "metadata": {
        "colab_type": "text",
        "id": "view-in-github"
      },
      "source": [
        "<a href=\"https://colab.research.google.com/github/alecseiterr/pleural_effusion/blob/main/Dmitrii_Utkin/dataset_features_and_labels_analysis.ipynb\" target=\"_parent\"><img src=\"https://colab.research.google.com/assets/colab-badge.svg\" alt=\"Open In Colab\"/></a>\n"
      ]
    },
    {
      "attachments": {},
      "cell_type": "markdown",
      "metadata": {
        "id": "iNBSEYsWeD_M"
      },
      "source": [
        "Copy and run locally due to large dataset size. All imported packages must be installed.\n"
      ]
    },
    {
      "cell_type": "code",
      "execution_count": 1,
      "metadata": {
        "id": "HyVKvhT_F8bJ"
      },
      "outputs": [],
      "source": [
        "import SimpleITK as sitk\n",
        "import numpy as np\n",
        "import pandas as pd\n",
        "import glob as glob\n",
        "import matplotlib.pyplot as plt\n",
        "\n",
        "%matplotlib inline"
      ]
    },
    {
      "cell_type": "code",
      "execution_count": 2,
      "metadata": {
        "id": "7sM_6T-gb5F3"
      },
      "outputs": [],
      "source": [
        "labels_path = \"/Users/dutking/LOCAL/AI_uni/radlogix/dataset/effusions_052023\"  # /LUNG1-001/LUNG1-001_effusion_first_reviewer.nii.gz\n",
        "features_path = \"/Users/dutking/LOCAL/AI_uni/radlogix/dataset/features\"  # /LUNG1-001/09-18-2008-StudyID-NA-69331/0.000000-NA-82046\n",
        "csv_path = \"/Users/dutking/LOCAL/AI_uni/radlogix/_documents/Thoracic and Pleural Effusion Segmentations April 2020.csv\""
      ]
    },
    {
      "cell_type": "code",
      "execution_count": 3,
      "metadata": {
        "id": "sw1eYk68fADb"
      },
      "outputs": [],
      "source": [
        "df = pd.read_csv(csv_path)\n",
        "df.set_index(\"PatientID\", inplace=True)"
      ]
    },
    {
      "attachments": {},
      "cell_type": "markdown",
      "metadata": {
        "id": "az9nYDYyfGe2"
      },
      "source": [
        "# Gethering features information\n"
      ]
    },
    {
      "attachments": {},
      "cell_type": "markdown",
      "metadata": {},
      "source": [
        "Creating dataframe to check amount of slices.\n"
      ]
    },
    {
      "cell_type": "code",
      "execution_count": 4,
      "metadata": {},
      "outputs": [],
      "source": [
        "features_df = pd.DataFrame(columns=[\"PatientID\", \"Feature.Slices\"])\n",
        "features_df.set_index(\"PatientID\", inplace=True)"
      ]
    },
    {
      "attachments": {},
      "cell_type": "markdown",
      "metadata": {},
      "source": [
        "Filling dataframe with actual data.\n"
      ]
    },
    {
      "cell_type": "code",
      "execution_count": 5,
      "metadata": {
        "id": "6PZUmc_SfNVC"
      },
      "outputs": [],
      "source": [
        "features_folders = sorted(glob.glob(f\"{features_path}/*\"))\n",
        "\n",
        "for folder in features_folders:\n",
        "    id = folder.split(\"/\")[-1]\n",
        "    dicom_folder = glob.glob(f'{glob.glob(f\"{folder}/*\")[0]}/*')[0]\n",
        "    reader = sitk.ImageSeriesReader()\n",
        "    dicom_names = reader.GetGDCMSeriesFileNames(dicom_folder)\n",
        "    reader.SetFileNames(dicom_names)\n",
        "    image = reader.Execute()\n",
        "    slices = image.GetSize()[2]\n",
        "    features_df.loc[id, \"Feature.Slices\"] = int(slices)"
      ]
    },
    {
      "cell_type": "code",
      "execution_count": 6,
      "metadata": {},
      "outputs": [
        {
          "data": {
            "text/html": [
              "<div>\n",
              "<style scoped>\n",
              "    .dataframe tbody tr th:only-of-type {\n",
              "        vertical-align: middle;\n",
              "    }\n",
              "\n",
              "    .dataframe tbody tr th {\n",
              "        vertical-align: top;\n",
              "    }\n",
              "\n",
              "    .dataframe thead th {\n",
              "        text-align: right;\n",
              "    }\n",
              "</style>\n",
              "<table border=\"1\" class=\"dataframe\">\n",
              "  <thead>\n",
              "    <tr style=\"text-align: right;\">\n",
              "      <th></th>\n",
              "      <th>Dim.z</th>\n",
              "      <th>Feature.Slices</th>\n",
              "    </tr>\n",
              "    <tr>\n",
              "      <th>PatientID</th>\n",
              "      <th></th>\n",
              "      <th></th>\n",
              "    </tr>\n",
              "  </thead>\n",
              "  <tbody>\n",
              "    <tr>\n",
              "      <th>LUNG1-001</th>\n",
              "      <td>134.0</td>\n",
              "      <td>134.0</td>\n",
              "    </tr>\n",
              "    <tr>\n",
              "      <th>LUNG1-002</th>\n",
              "      <td>111.0</td>\n",
              "      <td>111.0</td>\n",
              "    </tr>\n",
              "    <tr>\n",
              "      <th>LUNG1-003</th>\n",
              "      <td>NaN</td>\n",
              "      <td>NaN</td>\n",
              "    </tr>\n",
              "    <tr>\n",
              "      <th>LUNG1-004</th>\n",
              "      <td>114.0</td>\n",
              "      <td>114.0</td>\n",
              "    </tr>\n",
              "    <tr>\n",
              "      <th>LUNG1-005</th>\n",
              "      <td>91.0</td>\n",
              "      <td>91.0</td>\n",
              "    </tr>\n",
              "  </tbody>\n",
              "</table>\n",
              "</div>"
            ],
            "text/plain": [
              "           Dim.z  Feature.Slices\n",
              "PatientID                       \n",
              "LUNG1-001  134.0           134.0\n",
              "LUNG1-002  111.0           111.0\n",
              "LUNG1-003    NaN             NaN\n",
              "LUNG1-004  114.0           114.0\n",
              "LUNG1-005   91.0            91.0"
            ]
          },
          "execution_count": 6,
          "metadata": {},
          "output_type": "execute_result"
        }
      ],
      "source": [
        "features_merged_df = pd.merge(\n",
        "    df.loc[:, \"Dim.z\"],\n",
        "    features_df.astype(np.int16),\n",
        "    left_index=True,\n",
        "    right_index=True,\n",
        "    how=\"left\",\n",
        ")\n",
        "features_merged_df.head(5)"
      ]
    },
    {
      "attachments": {},
      "cell_type": "markdown",
      "metadata": {},
      "source": [
        "Check for differences in information in csv and actual files.\n"
      ]
    },
    {
      "cell_type": "code",
      "execution_count": 7,
      "metadata": {},
      "outputs": [
        {
          "data": {
            "text/plain": [
              "False"
            ]
          },
          "execution_count": 7,
          "metadata": {},
          "output_type": "execute_result"
        }
      ],
      "source": [
        "features_merged_df[\"Feature.Slices\"].equals(features_merged_df[\"Dim.z\"])"
      ]
    },
    {
      "cell_type": "code",
      "execution_count": 8,
      "metadata": {},
      "outputs": [
        {
          "data": {
            "text/html": [
              "<div>\n",
              "<style scoped>\n",
              "    .dataframe tbody tr th:only-of-type {\n",
              "        vertical-align: middle;\n",
              "    }\n",
              "\n",
              "    .dataframe tbody tr th {\n",
              "        vertical-align: top;\n",
              "    }\n",
              "\n",
              "    .dataframe thead th {\n",
              "        text-align: right;\n",
              "    }\n",
              "</style>\n",
              "<table border=\"1\" class=\"dataframe\">\n",
              "  <thead>\n",
              "    <tr style=\"text-align: right;\">\n",
              "      <th></th>\n",
              "      <th>Dim.z</th>\n",
              "      <th>Feature.Slices</th>\n",
              "    </tr>\n",
              "    <tr>\n",
              "      <th>PatientID</th>\n",
              "      <th></th>\n",
              "      <th></th>\n",
              "    </tr>\n",
              "  </thead>\n",
              "  <tbody>\n",
              "    <tr>\n",
              "      <th>LUNG1-003</th>\n",
              "      <td>NaN</td>\n",
              "      <td>NaN</td>\n",
              "    </tr>\n",
              "    <tr>\n",
              "      <th>LUNG1-014</th>\n",
              "      <td>NaN</td>\n",
              "      <td>NaN</td>\n",
              "    </tr>\n",
              "    <tr>\n",
              "      <th>LUNG1-021</th>\n",
              "      <td>NaN</td>\n",
              "      <td>NaN</td>\n",
              "    </tr>\n",
              "    <tr>\n",
              "      <th>LUNG1-031</th>\n",
              "      <td>NaN</td>\n",
              "      <td>NaN</td>\n",
              "    </tr>\n",
              "    <tr>\n",
              "      <th>LUNG1-058</th>\n",
              "      <td>NaN</td>\n",
              "      <td>NaN</td>\n",
              "    </tr>\n",
              "    <tr>\n",
              "      <th>LUNG1-061</th>\n",
              "      <td>NaN</td>\n",
              "      <td>NaN</td>\n",
              "    </tr>\n",
              "    <tr>\n",
              "      <th>LUNG1-069</th>\n",
              "      <td>NaN</td>\n",
              "      <td>NaN</td>\n",
              "    </tr>\n",
              "    <tr>\n",
              "      <th>LUNG1-074</th>\n",
              "      <td>NaN</td>\n",
              "      <td>NaN</td>\n",
              "    </tr>\n",
              "    <tr>\n",
              "      <th>LUNG1-083</th>\n",
              "      <td>113.0</td>\n",
              "      <td>NaN</td>\n",
              "    </tr>\n",
              "    <tr>\n",
              "      <th>LUNG1-085</th>\n",
              "      <td>NaN</td>\n",
              "      <td>NaN</td>\n",
              "    </tr>\n",
              "    <tr>\n",
              "      <th>LUNG1-095</th>\n",
              "      <td>107.0</td>\n",
              "      <td>NaN</td>\n",
              "    </tr>\n",
              "    <tr>\n",
              "      <th>LUNG1-137</th>\n",
              "      <td>NaN</td>\n",
              "      <td>NaN</td>\n",
              "    </tr>\n",
              "    <tr>\n",
              "      <th>LUNG1-180</th>\n",
              "      <td>NaN</td>\n",
              "      <td>NaN</td>\n",
              "    </tr>\n",
              "    <tr>\n",
              "      <th>LUNG1-194</th>\n",
              "      <td>NaN</td>\n",
              "      <td>NaN</td>\n",
              "    </tr>\n",
              "    <tr>\n",
              "      <th>LUNG1-198</th>\n",
              "      <td>NaN</td>\n",
              "      <td>131.0</td>\n",
              "    </tr>\n",
              "    <tr>\n",
              "      <th>LUNG1-201</th>\n",
              "      <td>NaN</td>\n",
              "      <td>NaN</td>\n",
              "    </tr>\n",
              "    <tr>\n",
              "      <th>LUNG1-203</th>\n",
              "      <td>NaN</td>\n",
              "      <td>112.0</td>\n",
              "    </tr>\n",
              "    <tr>\n",
              "      <th>LUNG1-204</th>\n",
              "      <td>NaN</td>\n",
              "      <td>92.0</td>\n",
              "    </tr>\n",
              "    <tr>\n",
              "      <th>LUNG1-207</th>\n",
              "      <td>NaN</td>\n",
              "      <td>NaN</td>\n",
              "    </tr>\n",
              "    <tr>\n",
              "      <th>LUNG1-209</th>\n",
              "      <td>NaN</td>\n",
              "      <td>NaN</td>\n",
              "    </tr>\n",
              "    <tr>\n",
              "      <th>LUNG1-228</th>\n",
              "      <td>NaN</td>\n",
              "      <td>NaN</td>\n",
              "    </tr>\n",
              "    <tr>\n",
              "      <th>LUNG1-246</th>\n",
              "      <td>115.0</td>\n",
              "      <td>NaN</td>\n",
              "    </tr>\n",
              "    <tr>\n",
              "      <th>LUNG1-272</th>\n",
              "      <td>NaN</td>\n",
              "      <td>NaN</td>\n",
              "    </tr>\n",
              "  </tbody>\n",
              "</table>\n",
              "</div>"
            ],
            "text/plain": [
              "           Dim.z  Feature.Slices\n",
              "PatientID                       \n",
              "LUNG1-003    NaN             NaN\n",
              "LUNG1-014    NaN             NaN\n",
              "LUNG1-021    NaN             NaN\n",
              "LUNG1-031    NaN             NaN\n",
              "LUNG1-058    NaN             NaN\n",
              "LUNG1-061    NaN             NaN\n",
              "LUNG1-069    NaN             NaN\n",
              "LUNG1-074    NaN             NaN\n",
              "LUNG1-083  113.0             NaN\n",
              "LUNG1-085    NaN             NaN\n",
              "LUNG1-095  107.0             NaN\n",
              "LUNG1-137    NaN             NaN\n",
              "LUNG1-180    NaN             NaN\n",
              "LUNG1-194    NaN             NaN\n",
              "LUNG1-198    NaN           131.0\n",
              "LUNG1-201    NaN             NaN\n",
              "LUNG1-203    NaN           112.0\n",
              "LUNG1-204    NaN            92.0\n",
              "LUNG1-207    NaN             NaN\n",
              "LUNG1-209    NaN             NaN\n",
              "LUNG1-228    NaN             NaN\n",
              "LUNG1-246  115.0             NaN\n",
              "LUNG1-272    NaN             NaN"
            ]
          },
          "execution_count": 8,
          "metadata": {},
          "output_type": "execute_result"
        }
      ],
      "source": [
        "features_merged_df.loc[\n",
        "    (features_merged_df[\"Dim.z\"] != features_merged_df[\"Feature.Slices\"])\n",
        "]"
      ]
    },
    {
      "attachments": {},
      "cell_type": "markdown",
      "metadata": {},
      "source": [
        "Checking if amount of slices in csv and actual is equal.\n"
      ]
    },
    {
      "cell_type": "code",
      "execution_count": 9,
      "metadata": {},
      "outputs": [
        {
          "data": {
            "text/plain": [
              "True"
            ]
          },
          "execution_count": 9,
          "metadata": {},
          "output_type": "execute_result"
        }
      ],
      "source": [
        "clean_features_merged_df = features_merged_df.dropna(\n",
        "    axis=0, subset=[\"Feature.Slices\", \"Dim.z\"]\n",
        ").astype(np.int16)\n",
        "clean_features_merged_df[\"Feature.Slices\"].equals(clean_features_merged_df[\"Dim.z\"])"
      ]
    },
    {
      "attachments": {},
      "cell_type": "markdown",
      "metadata": {},
      "source": [
        "Marking features as valid if both csv data and actual file exist.\n"
      ]
    },
    {
      "cell_type": "code",
      "execution_count": 10,
      "metadata": {},
      "outputs": [
        {
          "data": {
            "text/html": [
              "<div>\n",
              "<style scoped>\n",
              "    .dataframe tbody tr th:only-of-type {\n",
              "        vertical-align: middle;\n",
              "    }\n",
              "\n",
              "    .dataframe tbody tr th {\n",
              "        vertical-align: top;\n",
              "    }\n",
              "\n",
              "    .dataframe thead th {\n",
              "        text-align: right;\n",
              "    }\n",
              "</style>\n",
              "<table border=\"1\" class=\"dataframe\">\n",
              "  <thead>\n",
              "    <tr style=\"text-align: right;\">\n",
              "      <th></th>\n",
              "      <th>Feature.Slices</th>\n",
              "      <th>Valid.Feature</th>\n",
              "    </tr>\n",
              "    <tr>\n",
              "      <th>PatientID</th>\n",
              "      <th></th>\n",
              "      <th></th>\n",
              "    </tr>\n",
              "  </thead>\n",
              "  <tbody>\n",
              "    <tr>\n",
              "      <th>LUNG1-001</th>\n",
              "      <td>134.0</td>\n",
              "      <td>1.0</td>\n",
              "    </tr>\n",
              "    <tr>\n",
              "      <th>LUNG1-002</th>\n",
              "      <td>111.0</td>\n",
              "      <td>1.0</td>\n",
              "    </tr>\n",
              "    <tr>\n",
              "      <th>LUNG1-003</th>\n",
              "      <td>NaN</td>\n",
              "      <td>NaN</td>\n",
              "    </tr>\n",
              "    <tr>\n",
              "      <th>LUNG1-004</th>\n",
              "      <td>114.0</td>\n",
              "      <td>1.0</td>\n",
              "    </tr>\n",
              "    <tr>\n",
              "      <th>LUNG1-005</th>\n",
              "      <td>91.0</td>\n",
              "      <td>1.0</td>\n",
              "    </tr>\n",
              "    <tr>\n",
              "      <th>LUNG1-006</th>\n",
              "      <td>114.0</td>\n",
              "      <td>1.0</td>\n",
              "    </tr>\n",
              "    <tr>\n",
              "      <th>LUNG1-007</th>\n",
              "      <td>129.0</td>\n",
              "      <td>1.0</td>\n",
              "    </tr>\n",
              "    <tr>\n",
              "      <th>LUNG1-008</th>\n",
              "      <td>114.0</td>\n",
              "      <td>1.0</td>\n",
              "    </tr>\n",
              "    <tr>\n",
              "      <th>LUNG1-009</th>\n",
              "      <td>105.0</td>\n",
              "      <td>1.0</td>\n",
              "    </tr>\n",
              "    <tr>\n",
              "      <th>LUNG1-010</th>\n",
              "      <td>91.0</td>\n",
              "      <td>1.0</td>\n",
              "    </tr>\n",
              "    <tr>\n",
              "      <th>LUNG1-011</th>\n",
              "      <td>88.0</td>\n",
              "      <td>1.0</td>\n",
              "    </tr>\n",
              "    <tr>\n",
              "      <th>LUNG1-012</th>\n",
              "      <td>109.0</td>\n",
              "      <td>1.0</td>\n",
              "    </tr>\n",
              "    <tr>\n",
              "      <th>LUNG1-013</th>\n",
              "      <td>134.0</td>\n",
              "      <td>1.0</td>\n",
              "    </tr>\n",
              "    <tr>\n",
              "      <th>LUNG1-014</th>\n",
              "      <td>NaN</td>\n",
              "      <td>NaN</td>\n",
              "    </tr>\n",
              "    <tr>\n",
              "      <th>LUNG1-015</th>\n",
              "      <td>117.0</td>\n",
              "      <td>1.0</td>\n",
              "    </tr>\n",
              "  </tbody>\n",
              "</table>\n",
              "</div>"
            ],
            "text/plain": [
              "           Feature.Slices  Valid.Feature\n",
              "PatientID                               \n",
              "LUNG1-001           134.0            1.0\n",
              "LUNG1-002           111.0            1.0\n",
              "LUNG1-003             NaN            NaN\n",
              "LUNG1-004           114.0            1.0\n",
              "LUNG1-005            91.0            1.0\n",
              "LUNG1-006           114.0            1.0\n",
              "LUNG1-007           129.0            1.0\n",
              "LUNG1-008           114.0            1.0\n",
              "LUNG1-009           105.0            1.0\n",
              "LUNG1-010            91.0            1.0\n",
              "LUNG1-011            88.0            1.0\n",
              "LUNG1-012           109.0            1.0\n",
              "LUNG1-013           134.0            1.0\n",
              "LUNG1-014             NaN            NaN\n",
              "LUNG1-015           117.0            1.0"
            ]
          },
          "execution_count": 10,
          "metadata": {},
          "output_type": "execute_result"
        }
      ],
      "source": [
        "features_merged_df[\"Valid.Feature\"] = np.where(\n",
        "    (features_merged_df.isna()[\"Dim.z\"] == False)\n",
        "    & (features_merged_df.isna()[\"Feature.Slices\"] == False),\n",
        "    1,\n",
        "    np.nan,\n",
        ")\n",
        "features_merged_df.drop(columns=[\"Dim.z\"], inplace=True)\n",
        "features_merged_df.head(15)"
      ]
    },
    {
      "attachments": {},
      "cell_type": "markdown",
      "metadata": {
        "id": "JLi12-XSfc6C"
      },
      "source": [
        "# Gathering labels information\n"
      ]
    },
    {
      "attachments": {},
      "cell_type": "markdown",
      "metadata": {
        "id": "cNBfiULfkW_q"
      },
      "source": [
        "## Creating dataframe for labels\n"
      ]
    },
    {
      "attachments": {},
      "cell_type": "markdown",
      "metadata": {
        "id": "YI4EpJfffv-V"
      },
      "source": [
        "List of previously excluded labels based on radiologist's reports.\n"
      ]
    },
    {
      "attachments": {},
      "cell_type": "markdown",
      "metadata": {
        "id": "giO90R2PiSwL"
      },
      "source": [
        "Shrinking dataframe to rows with existing effusion events.\n"
      ]
    },
    {
      "cell_type": "code",
      "execution_count": 11,
      "metadata": {
        "id": "xQBMXmS8ig0h"
      },
      "outputs": [
        {
          "data": {
            "text/html": [
              "<div>\n",
              "<style scoped>\n",
              "    .dataframe tbody tr th:only-of-type {\n",
              "        vertical-align: middle;\n",
              "    }\n",
              "\n",
              "    .dataframe tbody tr th {\n",
              "        vertical-align: top;\n",
              "    }\n",
              "\n",
              "    .dataframe thead th {\n",
              "        text-align: right;\n",
              "    }\n",
              "</style>\n",
              "<table border=\"1\" class=\"dataframe\">\n",
              "  <thead>\n",
              "    <tr style=\"text-align: right;\">\n",
              "      <th></th>\n",
              "      <th>Carcinoma.Laterality</th>\n",
              "      <th>GTV1</th>\n",
              "      <th>GTV2</th>\n",
              "      <th>GTV3</th>\n",
              "      <th>GTV4</th>\n",
              "      <th>GTV5</th>\n",
              "      <th>GTV6</th>\n",
              "      <th>Tumor.Location</th>\n",
              "      <th>Effusion.Event</th>\n",
              "      <th>Primary.Effusion.Reviewer</th>\n",
              "      <th>...</th>\n",
              "      <th>RO1-RO3.Thorax.DSC</th>\n",
              "      <th>Rad1-Rad3.Thorax.DSC</th>\n",
              "      <th>Rad1-Rad2.Thorax.DSC</th>\n",
              "      <th>RO2-Rad2.Thorax.DSC</th>\n",
              "      <th>Dim.x</th>\n",
              "      <th>Dim.y</th>\n",
              "      <th>Dim.z</th>\n",
              "      <th>Voxel.Space.x</th>\n",
              "      <th>Voxel.Space.y</th>\n",
              "      <th>Voxel.space.z</th>\n",
              "    </tr>\n",
              "    <tr>\n",
              "      <th>PatientID</th>\n",
              "      <th></th>\n",
              "      <th></th>\n",
              "      <th></th>\n",
              "      <th></th>\n",
              "      <th></th>\n",
              "      <th></th>\n",
              "      <th></th>\n",
              "      <th></th>\n",
              "      <th></th>\n",
              "      <th></th>\n",
              "      <th></th>\n",
              "      <th></th>\n",
              "      <th></th>\n",
              "      <th></th>\n",
              "      <th></th>\n",
              "      <th></th>\n",
              "      <th></th>\n",
              "      <th></th>\n",
              "      <th></th>\n",
              "      <th></th>\n",
              "      <th></th>\n",
              "    </tr>\n",
              "  </thead>\n",
              "  <tbody>\n",
              "    <tr>\n",
              "      <th>LUNG1-001</th>\n",
              "      <td>L</td>\n",
              "      <td>139.06</td>\n",
              "      <td>NaN</td>\n",
              "      <td>NaN</td>\n",
              "      <td>NaN</td>\n",
              "      <td>NaN</td>\n",
              "      <td>NaN</td>\n",
              "      <td>3.0</td>\n",
              "      <td>1.0</td>\n",
              "      <td>Rad4</td>\n",
              "      <td>...</td>\n",
              "      <td>NaN</td>\n",
              "      <td>NaN</td>\n",
              "      <td>NaN</td>\n",
              "      <td>NaN</td>\n",
              "      <td>512.0</td>\n",
              "      <td>512.0</td>\n",
              "      <td>134.0</td>\n",
              "      <td>0.976563</td>\n",
              "      <td>0.976563</td>\n",
              "      <td>3.0</td>\n",
              "    </tr>\n",
              "    <tr>\n",
              "      <th>LUNG1-002</th>\n",
              "      <td>R</td>\n",
              "      <td>340.30</td>\n",
              "      <td>NaN</td>\n",
              "      <td>NaN</td>\n",
              "      <td>NaN</td>\n",
              "      <td>NaN</td>\n",
              "      <td>NaN</td>\n",
              "      <td>3.0</td>\n",
              "      <td>1.0</td>\n",
              "      <td>Rad4</td>\n",
              "      <td>...</td>\n",
              "      <td>NaN</td>\n",
              "      <td>NaN</td>\n",
              "      <td>NaN</td>\n",
              "      <td>NaN</td>\n",
              "      <td>512.0</td>\n",
              "      <td>512.0</td>\n",
              "      <td>111.0</td>\n",
              "      <td>0.977000</td>\n",
              "      <td>0.977000</td>\n",
              "      <td>3.0</td>\n",
              "    </tr>\n",
              "    <tr>\n",
              "      <th>LUNG1-005</th>\n",
              "      <td>R</td>\n",
              "      <td>78.62</td>\n",
              "      <td>NaN</td>\n",
              "      <td>NaN</td>\n",
              "      <td>NaN</td>\n",
              "      <td>NaN</td>\n",
              "      <td>NaN</td>\n",
              "      <td>1.0</td>\n",
              "      <td>1.0</td>\n",
              "      <td>Rad4</td>\n",
              "      <td>...</td>\n",
              "      <td>NaN</td>\n",
              "      <td>NaN</td>\n",
              "      <td>NaN</td>\n",
              "      <td>NaN</td>\n",
              "      <td>512.0</td>\n",
              "      <td>512.0</td>\n",
              "      <td>91.0</td>\n",
              "      <td>0.977000</td>\n",
              "      <td>0.977000</td>\n",
              "      <td>3.0</td>\n",
              "    </tr>\n",
              "    <tr>\n",
              "      <th>LUNG1-008</th>\n",
              "      <td>R</td>\n",
              "      <td>37.48</td>\n",
              "      <td>NaN</td>\n",
              "      <td>NaN</td>\n",
              "      <td>NaN</td>\n",
              "      <td>NaN</td>\n",
              "      <td>NaN</td>\n",
              "      <td>3.0</td>\n",
              "      <td>1.0</td>\n",
              "      <td>Rad4</td>\n",
              "      <td>...</td>\n",
              "      <td>NaN</td>\n",
              "      <td>NaN</td>\n",
              "      <td>NaN</td>\n",
              "      <td>NaN</td>\n",
              "      <td>512.0</td>\n",
              "      <td>512.0</td>\n",
              "      <td>114.0</td>\n",
              "      <td>0.977000</td>\n",
              "      <td>0.977000</td>\n",
              "      <td>3.0</td>\n",
              "    </tr>\n",
              "    <tr>\n",
              "      <th>LUNG1-013</th>\n",
              "      <td>L</td>\n",
              "      <td>13.25</td>\n",
              "      <td>NaN</td>\n",
              "      <td>NaN</td>\n",
              "      <td>NaN</td>\n",
              "      <td>NaN</td>\n",
              "      <td>NaN</td>\n",
              "      <td>1.0</td>\n",
              "      <td>1.0</td>\n",
              "      <td>Rad4</td>\n",
              "      <td>...</td>\n",
              "      <td>NaN</td>\n",
              "      <td>NaN</td>\n",
              "      <td>NaN</td>\n",
              "      <td>NaN</td>\n",
              "      <td>512.0</td>\n",
              "      <td>512.0</td>\n",
              "      <td>134.0</td>\n",
              "      <td>0.976563</td>\n",
              "      <td>0.976563</td>\n",
              "      <td>3.0</td>\n",
              "    </tr>\n",
              "  </tbody>\n",
              "</table>\n",
              "<p>5 rows × 33 columns</p>\n",
              "</div>"
            ],
            "text/plain": [
              "          Carcinoma.Laterality    GTV1  GTV2  GTV3  GTV4  GTV5  GTV6  \\\n",
              "PatientID                                                              \n",
              "LUNG1-001                    L  139.06   NaN   NaN   NaN   NaN   NaN   \n",
              "LUNG1-002                    R  340.30   NaN   NaN   NaN   NaN   NaN   \n",
              "LUNG1-005                    R   78.62   NaN   NaN   NaN   NaN   NaN   \n",
              "LUNG1-008                    R   37.48   NaN   NaN   NaN   NaN   NaN   \n",
              "LUNG1-013                    L   13.25   NaN   NaN   NaN   NaN   NaN   \n",
              "\n",
              "           Tumor.Location  Effusion.Event Primary.Effusion.Reviewer  ...  \\\n",
              "PatientID                                                            ...   \n",
              "LUNG1-001             3.0             1.0                      Rad4  ...   \n",
              "LUNG1-002             3.0             1.0                      Rad4  ...   \n",
              "LUNG1-005             1.0             1.0                      Rad4  ...   \n",
              "LUNG1-008             3.0             1.0                      Rad4  ...   \n",
              "LUNG1-013             1.0             1.0                      Rad4  ...   \n",
              "\n",
              "          RO1-RO3.Thorax.DSC Rad1-Rad3.Thorax.DSC  Rad1-Rad2.Thorax.DSC  \\\n",
              "PatientID                                                                 \n",
              "LUNG1-001                NaN                  NaN                   NaN   \n",
              "LUNG1-002                NaN                  NaN                   NaN   \n",
              "LUNG1-005                NaN                  NaN                   NaN   \n",
              "LUNG1-008                NaN                  NaN                   NaN   \n",
              "LUNG1-013                NaN                  NaN                   NaN   \n",
              "\n",
              "          RO2-Rad2.Thorax.DSC  Dim.x  Dim.y  Dim.z  Voxel.Space.x  \\\n",
              "PatientID                                                           \n",
              "LUNG1-001                 NaN  512.0  512.0  134.0       0.976563   \n",
              "LUNG1-002                 NaN  512.0  512.0  111.0       0.977000   \n",
              "LUNG1-005                 NaN  512.0  512.0   91.0       0.977000   \n",
              "LUNG1-008                 NaN  512.0  512.0  114.0       0.977000   \n",
              "LUNG1-013                 NaN  512.0  512.0  134.0       0.976563   \n",
              "\n",
              "           Voxel.Space.y Voxel.space.z  \n",
              "PatientID                               \n",
              "LUNG1-001       0.976563           3.0  \n",
              "LUNG1-002       0.977000           3.0  \n",
              "LUNG1-005       0.977000           3.0  \n",
              "LUNG1-008       0.977000           3.0  \n",
              "LUNG1-013       0.976563           3.0  \n",
              "\n",
              "[5 rows x 33 columns]"
            ]
          },
          "execution_count": 11,
          "metadata": {},
          "output_type": "execute_result"
        }
      ],
      "source": [
        "labels_df = df.loc[(df[\"Effusion.Event\"] == 1.0)]\n",
        "labels_df.head(5)"
      ]
    },
    {
      "attachments": {},
      "cell_type": "markdown",
      "metadata": {
        "id": "C4tVtYd0kRBE"
      },
      "source": [
        "## Helper functions\n"
      ]
    },
    {
      "attachments": {},
      "cell_type": "markdown",
      "metadata": {
        "id": "_CfjkHIelJKg"
      },
      "source": [
        "Converting of image to array of slices.\n"
      ]
    },
    {
      "cell_type": "code",
      "execution_count": 12,
      "metadata": {
        "id": "S6mbNU8vkgKV"
      },
      "outputs": [],
      "source": [
        "def get_image_array(path):\n",
        "    nifti = sitk.ReadImage(path, imageIO=\"NiftiImageIO\")\n",
        "    return sitk.GetArrayFromImage(nifti)"
      ]
    },
    {
      "attachments": {},
      "cell_type": "markdown",
      "metadata": {
        "id": "PPPlBm25lRdz"
      },
      "source": [
        "Getting amount of nonzero voxels in every slice.\n"
      ]
    },
    {
      "cell_type": "code",
      "execution_count": 13,
      "metadata": {
        "id": "ZkiIcCp1kmFs"
      },
      "outputs": [],
      "source": [
        "def get_values_by_slices(arr):\n",
        "    return np.array([np.sum(abs(i)) for i in arr.astype(bool)])"
      ]
    },
    {
      "attachments": {},
      "cell_type": "markdown",
      "metadata": {
        "id": "djCIw_4rlzLz"
      },
      "source": [
        "Counting gaps:\n",
        "\n",
        "1. Setting image boundaries\n",
        "2. Searching for 0s\n"
      ]
    },
    {
      "cell_type": "code",
      "execution_count": 14,
      "metadata": {
        "id": "A_Ig3c2Hkqgj"
      },
      "outputs": [],
      "source": [
        "def get_gaps(arr, threshold):\n",
        "    \"\"\"\n",
        "    args:\n",
        "        arr: 1D array of numbers of voxels in the slice\n",
        "        threshold: int, maximum amount of voxels treated as gap\n",
        "    return:\n",
        "        array: [ndarray]\n",
        "    \"\"\"\n",
        "    image_boundaries = [np.flatnonzero(arr)[0], (np.flatnonzero(arr)[-1])]\n",
        "    counter = {\"indices\": []}\n",
        "    gaps = []\n",
        "\n",
        "    for idx, item in enumerate(arr):\n",
        "        if idx > image_boundaries[0] and idx < image_boundaries[1]:\n",
        "            if item <= threshold:\n",
        "                counter[\"indices\"].append(idx + 1)\n",
        "            elif item > threshold and len(counter[\"indices\"]) > 0:\n",
        "                gaps.append(np.array(counter[\"indices\"]))\n",
        "                counter[\"indices\"] = []\n",
        "\n",
        "    return gaps"
      ]
    },
    {
      "attachments": {},
      "cell_type": "markdown",
      "metadata": {
        "id": "ix27ig6KmR2E"
      },
      "source": [
        "Counting outliers:\n",
        "\n",
        "1. Setting image boundaries\n",
        "2. Counting consequent non-empty slices\n",
        "3. Comparing amount of consequent non-empty slices with threshold\n"
      ]
    },
    {
      "cell_type": "code",
      "execution_count": 15,
      "metadata": {
        "id": "6p60PNP_k0BC"
      },
      "outputs": [],
      "source": [
        "def get_outliers(arr, threshold):\n",
        "    \"\"\"\n",
        "    args:\n",
        "        arr: 1D array\n",
        "        threshold: int, maximum amount of slices treated as outliers\n",
        "    return:\n",
        "        array: [ndarray]\n",
        "    \"\"\"\n",
        "    image_boundaries = [np.flatnonzero(arr)[0], (np.flatnonzero(arr)[-1])]\n",
        "    outliers = []\n",
        "    counter = {\"indices\": []}\n",
        "\n",
        "    for idx, item in enumerate(arr):\n",
        "        if idx >= image_boundaries[0] and idx <= image_boundaries[1]:\n",
        "            if item != 0:\n",
        "                counter[\"indices\"].append(idx + 1)\n",
        "            elif item == 0:\n",
        "                if len(counter[\"indices\"]) > 0 and len(counter[\"indices\"]) <= threshold:\n",
        "                    outliers.append(np.array(counter[\"indices\"]))\n",
        "\n",
        "                counter[\"indices\"] = []\n",
        "\n",
        "    if len(counter[\"indices\"]) > 0 and len(counter[\"indices\"]) <= threshold:\n",
        "        outliers.append(np.array(counter[\"indices\"]))\n",
        "\n",
        "    return outliers"
      ]
    },
    {
      "attachments": {},
      "cell_type": "markdown",
      "metadata": {
        "id": "PP-y6Vu1nObC"
      },
      "source": [
        "Getting data about gaps and outliers, amount of slices.\n"
      ]
    },
    {
      "cell_type": "code",
      "execution_count": 16,
      "metadata": {},
      "outputs": [],
      "source": [
        "def is_empty(image_array):\n",
        "    if np.sum(image_array) == 0:\n",
        "        return True\n",
        "\n",
        "    return False"
      ]
    },
    {
      "cell_type": "code",
      "execution_count": 17,
      "metadata": {
        "id": "GyqouwMqk5KH"
      },
      "outputs": [],
      "source": [
        "def check_label(path):\n",
        "    image_array = get_image_array(path)\n",
        "    values_by_slices = get_values_by_slices(image_array)\n",
        "    gaps = get_gaps(values_by_slices, 5)\n",
        "    outliers = get_outliers(values_by_slices, 3)\n",
        "    return {\n",
        "        \"gaps\": gaps,\n",
        "        \"outliers\": outliers,\n",
        "        \"amount_of_slices\": image_array.shape[0],\n",
        "    }"
      ]
    },
    {
      "attachments": {},
      "cell_type": "markdown",
      "metadata": {
        "id": "ai6CJt2unVZD"
      },
      "source": [
        "Define if label is suspicious based on presence of gaps or outliers.\n"
      ]
    },
    {
      "cell_type": "code",
      "execution_count": 18,
      "metadata": {
        "id": "eOLuRzjHk9N1"
      },
      "outputs": [],
      "source": [
        "def is_suspicious(label):\n",
        "    return len(label[\"gaps\"]) > 0 or len(label[\"outliers\"]) > 0"
      ]
    },
    {
      "attachments": {},
      "cell_type": "markdown",
      "metadata": {
        "id": "J-vGOZpynijQ"
      },
      "source": [
        "Getting data about current file:\n",
        "\n",
        "1. reviewer\n",
        "2. patient id\n"
      ]
    },
    {
      "cell_type": "code",
      "execution_count": 19,
      "metadata": {
        "id": "OTjdRak_lAEF"
      },
      "outputs": [],
      "source": [
        "def get_patien_id_form_path_data(path):\n",
        "    path_arr = path.split(\"/\")\n",
        "    patient_id = path_arr[8]\n",
        "    return patient_id"
      ]
    },
    {
      "attachments": {},
      "cell_type": "markdown",
      "metadata": {
        "id": "QmZsT7qinyBd"
      },
      "source": [
        "Building report on amount of label slices, gaps and outliers:\n",
        "\n",
        "1. Creating report dataframe\n",
        "2. Checking label\n",
        "3. Adding row to report\n"
      ]
    },
    {
      "cell_type": "code",
      "execution_count": 21,
      "metadata": {
        "id": "YXZcdNZWlDZt"
      },
      "outputs": [],
      "source": [
        "def collect_labels_data(path):\n",
        "    report_df = pd.DataFrame(\n",
        "        columns=[\n",
        "            \"PatientID\",\n",
        "            \"Valid.Label\",\n",
        "            \"Label.Slices\",\n",
        "            \"Label.Gaps\",\n",
        "            \"Label.Outliers\",\n",
        "        ]\n",
        "    )\n",
        "    report_df.set_index(\"PatientID\")\n",
        "    report_df.drop(\"PatientID\", axis=1, inplace=True)\n",
        "\n",
        "    folders = sorted(glob.glob(f\"{path}/*\"))\n",
        "\n",
        "    for folder in folders:\n",
        "        patient_id = get_patien_id_form_path_data(folder)\n",
        "        file = sorted(glob.glob(f\"{folder}/*\"))[0]\n",
        "        if not is_empty(get_image_array(file)):\n",
        "            label_data = check_label(file)\n",
        "            report_df.loc[patient_id, \"Label.Slices\"] = int(\n",
        "                label_data[\"amount_of_slices\"]\n",
        "            )\n",
        "            if is_suspicious(label_data):\n",
        "                report_df.loc[patient_id, \"Valid.Label\"] = 0\n",
        "                if len(label_data[\"gaps\"]) > 0:\n",
        "                    report_df.loc[patient_id, \"Label.Gaps\"] = label_data[\"gaps\"]\n",
        "                    issues_found = True\n",
        "\n",
        "                if len(label_data[\"outliers\"]) > 0:\n",
        "                    report_df.loc[patient_id, \"Label.Outliers\"] = label_data[\"outliers\"]\n",
        "                    issues_found = True\n",
        "            else:\n",
        "                report_df.loc[patient_id, \"Valid.Label\"] = 1\n",
        "\n",
        "    return report_df"
      ]
    },
    {
      "attachments": {},
      "cell_type": "markdown",
      "metadata": {
        "id": "qhQp4wj9oarH"
      },
      "source": [
        "## Building final report\n"
      ]
    },
    {
      "attachments": {},
      "cell_type": "markdown",
      "metadata": {},
      "source": [
        "Building report on labels.\n"
      ]
    },
    {
      "cell_type": "code",
      "execution_count": 22,
      "metadata": {
        "id": "xg2JaYfNohUq"
      },
      "outputs": [],
      "source": [
        "labels_report = collect_labels_data(labels_path)"
      ]
    },
    {
      "cell_type": "code",
      "execution_count": 23,
      "metadata": {},
      "outputs": [
        {
          "data": {
            "text/html": [
              "<div>\n",
              "<style scoped>\n",
              "    .dataframe tbody tr th:only-of-type {\n",
              "        vertical-align: middle;\n",
              "    }\n",
              "\n",
              "    .dataframe tbody tr th {\n",
              "        vertical-align: top;\n",
              "    }\n",
              "\n",
              "    .dataframe thead th {\n",
              "        text-align: right;\n",
              "    }\n",
              "</style>\n",
              "<table border=\"1\" class=\"dataframe\">\n",
              "  <thead>\n",
              "    <tr style=\"text-align: right;\">\n",
              "      <th></th>\n",
              "      <th>Valid.Label</th>\n",
              "      <th>Label.Slices</th>\n",
              "      <th>Label.Gaps</th>\n",
              "      <th>Label.Outliers</th>\n",
              "    </tr>\n",
              "  </thead>\n",
              "  <tbody>\n",
              "    <tr>\n",
              "      <th>count</th>\n",
              "      <td>77</td>\n",
              "      <td>77</td>\n",
              "      <td>20</td>\n",
              "      <td>7</td>\n",
              "    </tr>\n",
              "    <tr>\n",
              "      <th>unique</th>\n",
              "      <td>2</td>\n",
              "      <td>37</td>\n",
              "      <td>20</td>\n",
              "      <td>7</td>\n",
              "    </tr>\n",
              "    <tr>\n",
              "      <th>top</th>\n",
              "      <td>1</td>\n",
              "      <td>134</td>\n",
              "      <td>[[84, 85, 86, 87], [89]]</td>\n",
              "      <td>[[86], [88]]</td>\n",
              "    </tr>\n",
              "    <tr>\n",
              "      <th>freq</th>\n",
              "      <td>57</td>\n",
              "      <td>23</td>\n",
              "      <td>1</td>\n",
              "      <td>1</td>\n",
              "    </tr>\n",
              "  </tbody>\n",
              "</table>\n",
              "</div>"
            ],
            "text/plain": [
              "        Valid.Label  Label.Slices                Label.Gaps Label.Outliers\n",
              "count            77            77                        20              7\n",
              "unique            2            37                        20              7\n",
              "top               1           134  [[84, 85, 86, 87], [89]]   [[86], [88]]\n",
              "freq             57            23                         1              1"
            ]
          },
          "execution_count": 23,
          "metadata": {},
          "output_type": "execute_result"
        }
      ],
      "source": [
        "labels_report.describe()"
      ]
    },
    {
      "attachments": {},
      "cell_type": "markdown",
      "metadata": {},
      "source": [
        "Combining dataframes on features and labels.\n"
      ]
    },
    {
      "cell_type": "code",
      "execution_count": 24,
      "metadata": {},
      "outputs": [
        {
          "data": {
            "text/html": [
              "<div>\n",
              "<style scoped>\n",
              "    .dataframe tbody tr th:only-of-type {\n",
              "        vertical-align: middle;\n",
              "    }\n",
              "\n",
              "    .dataframe tbody tr th {\n",
              "        vertical-align: top;\n",
              "    }\n",
              "\n",
              "    .dataframe thead th {\n",
              "        text-align: right;\n",
              "    }\n",
              "</style>\n",
              "<table border=\"1\" class=\"dataframe\">\n",
              "  <thead>\n",
              "    <tr style=\"text-align: right;\">\n",
              "      <th></th>\n",
              "      <th>Feature.Slices</th>\n",
              "      <th>Valid.Feature</th>\n",
              "      <th>Valid.Label</th>\n",
              "      <th>Label.Slices</th>\n",
              "      <th>Label.Gaps</th>\n",
              "      <th>Label.Outliers</th>\n",
              "    </tr>\n",
              "    <tr>\n",
              "      <th>PatientID</th>\n",
              "      <th></th>\n",
              "      <th></th>\n",
              "      <th></th>\n",
              "      <th></th>\n",
              "      <th></th>\n",
              "      <th></th>\n",
              "    </tr>\n",
              "  </thead>\n",
              "  <tbody>\n",
              "    <tr>\n",
              "      <th>LUNG1-001</th>\n",
              "      <td>134.0</td>\n",
              "      <td>1.0</td>\n",
              "      <td>0</td>\n",
              "      <td>134</td>\n",
              "      <td>[[84, 85, 86, 87], [89]]</td>\n",
              "      <td>[[86], [88]]</td>\n",
              "    </tr>\n",
              "    <tr>\n",
              "      <th>LUNG1-002</th>\n",
              "      <td>111.0</td>\n",
              "      <td>1.0</td>\n",
              "      <td>1</td>\n",
              "      <td>111</td>\n",
              "      <td>NaN</td>\n",
              "      <td>NaN</td>\n",
              "    </tr>\n",
              "    <tr>\n",
              "      <th>LUNG1-003</th>\n",
              "      <td>NaN</td>\n",
              "      <td>NaN</td>\n",
              "      <td>NaN</td>\n",
              "      <td>NaN</td>\n",
              "      <td>NaN</td>\n",
              "      <td>NaN</td>\n",
              "    </tr>\n",
              "    <tr>\n",
              "      <th>LUNG1-004</th>\n",
              "      <td>114.0</td>\n",
              "      <td>1.0</td>\n",
              "      <td>NaN</td>\n",
              "      <td>NaN</td>\n",
              "      <td>NaN</td>\n",
              "      <td>NaN</td>\n",
              "    </tr>\n",
              "    <tr>\n",
              "      <th>LUNG1-005</th>\n",
              "      <td>91.0</td>\n",
              "      <td>1.0</td>\n",
              "      <td>0</td>\n",
              "      <td>91</td>\n",
              "      <td>[[26, 27, 28, 29, 30, 31, 32, 33, 34, 35, 36, ...</td>\n",
              "      <td>NaN</td>\n",
              "    </tr>\n",
              "  </tbody>\n",
              "</table>\n",
              "</div>"
            ],
            "text/plain": [
              "           Feature.Slices  Valid.Feature Valid.Label Label.Slices  \\\n",
              "PatientID                                                           \n",
              "LUNG1-001           134.0            1.0           0          134   \n",
              "LUNG1-002           111.0            1.0           1          111   \n",
              "LUNG1-003             NaN            NaN         NaN          NaN   \n",
              "LUNG1-004           114.0            1.0         NaN          NaN   \n",
              "LUNG1-005            91.0            1.0           0           91   \n",
              "\n",
              "                                                  Label.Gaps Label.Outliers  \n",
              "PatientID                                                                    \n",
              "LUNG1-001                           [[84, 85, 86, 87], [89]]   [[86], [88]]  \n",
              "LUNG1-002                                                NaN            NaN  \n",
              "LUNG1-003                                                NaN            NaN  \n",
              "LUNG1-004                                                NaN            NaN  \n",
              "LUNG1-005  [[26, 27, 28, 29, 30, 31, 32, 33, 34, 35, 36, ...            NaN  "
            ]
          },
          "execution_count": 24,
          "metadata": {},
          "output_type": "execute_result"
        }
      ],
      "source": [
        "features_labels_df = pd.merge(\n",
        "    features_merged_df, labels_report, left_index=True, right_index=True, how=\"left\"\n",
        ")\n",
        "features_labels_df.head(5)"
      ]
    },
    {
      "cell_type": "code",
      "execution_count": 25,
      "metadata": {},
      "outputs": [],
      "source": [
        "features_labels_df.dropna(axis=0, subset=[\"Feature.Slices\"], inplace=True)\n",
        "features_labels_df.loc[features_labels_df[\"Valid.Label\"] == 0].reset_index().to_csv(\n",
        "    \"./_docs/features_and_labels_report_UPDATED_LABELS.csv\", index=False\n",
        ")"
      ]
    },
    {
      "attachments": {},
      "cell_type": "markdown",
      "metadata": {},
      "source": [
        "Checking consistency along amount of slices.\n"
      ]
    },
    {
      "cell_type": "code",
      "execution_count": 26,
      "metadata": {},
      "outputs": [
        {
          "data": {
            "text/html": [
              "<div>\n",
              "<style scoped>\n",
              "    .dataframe tbody tr th:only-of-type {\n",
              "        vertical-align: middle;\n",
              "    }\n",
              "\n",
              "    .dataframe tbody tr th {\n",
              "        vertical-align: top;\n",
              "    }\n",
              "\n",
              "    .dataframe thead th {\n",
              "        text-align: right;\n",
              "    }\n",
              "</style>\n",
              "<table border=\"1\" class=\"dataframe\">\n",
              "  <thead>\n",
              "    <tr style=\"text-align: right;\">\n",
              "      <th></th>\n",
              "      <th>Feature.Slices</th>\n",
              "      <th>Valid.Feature</th>\n",
              "      <th>Valid.Label</th>\n",
              "      <th>Label.Slices</th>\n",
              "      <th>Label.Gaps</th>\n",
              "      <th>Label.Outliers</th>\n",
              "    </tr>\n",
              "    <tr>\n",
              "      <th>PatientID</th>\n",
              "      <th></th>\n",
              "      <th></th>\n",
              "      <th></th>\n",
              "      <th></th>\n",
              "      <th></th>\n",
              "      <th></th>\n",
              "    </tr>\n",
              "  </thead>\n",
              "  <tbody>\n",
              "    <tr>\n",
              "      <th>LUNG1-001</th>\n",
              "      <td>134.0</td>\n",
              "      <td>1.0</td>\n",
              "      <td>0</td>\n",
              "      <td>134</td>\n",
              "      <td>[[84, 85, 86, 87], [89]]</td>\n",
              "      <td>[[86], [88]]</td>\n",
              "    </tr>\n",
              "    <tr>\n",
              "      <th>LUNG1-002</th>\n",
              "      <td>111.0</td>\n",
              "      <td>1.0</td>\n",
              "      <td>1</td>\n",
              "      <td>111</td>\n",
              "      <td>NaN</td>\n",
              "      <td>NaN</td>\n",
              "    </tr>\n",
              "    <tr>\n",
              "      <th>LUNG1-005</th>\n",
              "      <td>91.0</td>\n",
              "      <td>1.0</td>\n",
              "      <td>0</td>\n",
              "      <td>91</td>\n",
              "      <td>[[26, 27, 28, 29, 30, 31, 32, 33, 34, 35, 36, ...</td>\n",
              "      <td>NaN</td>\n",
              "    </tr>\n",
              "    <tr>\n",
              "      <th>LUNG1-008</th>\n",
              "      <td>114.0</td>\n",
              "      <td>1.0</td>\n",
              "      <td>1</td>\n",
              "      <td>114</td>\n",
              "      <td>NaN</td>\n",
              "      <td>NaN</td>\n",
              "    </tr>\n",
              "    <tr>\n",
              "      <th>LUNG1-013</th>\n",
              "      <td>134.0</td>\n",
              "      <td>1.0</td>\n",
              "      <td>0</td>\n",
              "      <td>134</td>\n",
              "      <td>[[79, 80, 81, 82, 83, 84, 85, 86, 87, 88, 89, ...</td>\n",
              "      <td>[[77, 78], [107], [109, 110]]</td>\n",
              "    </tr>\n",
              "  </tbody>\n",
              "</table>\n",
              "</div>"
            ],
            "text/plain": [
              "           Feature.Slices  Valid.Feature Valid.Label Label.Slices  \\\n",
              "PatientID                                                           \n",
              "LUNG1-001           134.0            1.0           0          134   \n",
              "LUNG1-002           111.0            1.0           1          111   \n",
              "LUNG1-005            91.0            1.0           0           91   \n",
              "LUNG1-008           114.0            1.0           1          114   \n",
              "LUNG1-013           134.0            1.0           0          134   \n",
              "\n",
              "                                                  Label.Gaps  \\\n",
              "PatientID                                                      \n",
              "LUNG1-001                           [[84, 85, 86, 87], [89]]   \n",
              "LUNG1-002                                                NaN   \n",
              "LUNG1-005  [[26, 27, 28, 29, 30, 31, 32, 33, 34, 35, 36, ...   \n",
              "LUNG1-008                                                NaN   \n",
              "LUNG1-013  [[79, 80, 81, 82, 83, 84, 85, 86, 87, 88, 89, ...   \n",
              "\n",
              "                          Label.Outliers  \n",
              "PatientID                                 \n",
              "LUNG1-001                   [[86], [88]]  \n",
              "LUNG1-002                            NaN  \n",
              "LUNG1-005                            NaN  \n",
              "LUNG1-008                            NaN  \n",
              "LUNG1-013  [[77, 78], [107], [109, 110]]  "
            ]
          },
          "execution_count": 26,
          "metadata": {},
          "output_type": "execute_result"
        }
      ],
      "source": [
        "clean_features_labels_df = features_labels_df.dropna(\n",
        "    axis=0, subset=[\"Feature.Slices\", \"Label.Slices\"]\n",
        ")\n",
        "\n",
        "clean_features_labels_df.head(5)"
      ]
    },
    {
      "attachments": {},
      "cell_type": "markdown",
      "metadata": {},
      "source": [
        "Comparing slices for features and first review.\n"
      ]
    },
    {
      "cell_type": "code",
      "execution_count": 27,
      "metadata": {},
      "outputs": [
        {
          "data": {
            "text/plain": [
              "True"
            ]
          },
          "execution_count": 27,
          "metadata": {},
          "output_type": "execute_result"
        }
      ],
      "source": [
        "clean_features_labels_df[\"Feature.Slices\"].astype(np.int16).equals(\n",
        "    clean_features_labels_df[\"Label.Slices\"].astype(np.int16)\n",
        ")"
      ]
    },
    {
      "attachments": {},
      "cell_type": "markdown",
      "metadata": {
        "id": "JQKK0broo4n9"
      },
      "source": [
        "Merging report with initial dataset csv file.\n"
      ]
    },
    {
      "cell_type": "code",
      "execution_count": 33,
      "metadata": {
        "id": "jcgJT_sgoird"
      },
      "outputs": [
        {
          "data": {
            "text/html": [
              "<div>\n",
              "<style scoped>\n",
              "    .dataframe tbody tr th:only-of-type {\n",
              "        vertical-align: middle;\n",
              "    }\n",
              "\n",
              "    .dataframe tbody tr th {\n",
              "        vertical-align: top;\n",
              "    }\n",
              "\n",
              "    .dataframe thead th {\n",
              "        text-align: right;\n",
              "    }\n",
              "</style>\n",
              "<table border=\"1\" class=\"dataframe\">\n",
              "  <thead>\n",
              "    <tr style=\"text-align: right;\">\n",
              "      <th></th>\n",
              "      <th>Carcinoma.Laterality</th>\n",
              "      <th>GTV1</th>\n",
              "      <th>GTV2</th>\n",
              "      <th>GTV3</th>\n",
              "      <th>GTV4</th>\n",
              "      <th>GTV5</th>\n",
              "      <th>GTV6</th>\n",
              "      <th>Tumor.Location</th>\n",
              "      <th>Effusion.Event</th>\n",
              "      <th>Primary.Effusion.Reviewer</th>\n",
              "      <th>...</th>\n",
              "      <th>Dim.z</th>\n",
              "      <th>Voxel.Space.x</th>\n",
              "      <th>Voxel.Space.y</th>\n",
              "      <th>Voxel.space.z</th>\n",
              "      <th>Feature.Slices</th>\n",
              "      <th>Valid.Feature</th>\n",
              "      <th>Valid.Label</th>\n",
              "      <th>Label.Slices</th>\n",
              "      <th>Label.Gaps</th>\n",
              "      <th>Label.Outliers</th>\n",
              "    </tr>\n",
              "    <tr>\n",
              "      <th>PatientID</th>\n",
              "      <th></th>\n",
              "      <th></th>\n",
              "      <th></th>\n",
              "      <th></th>\n",
              "      <th></th>\n",
              "      <th></th>\n",
              "      <th></th>\n",
              "      <th></th>\n",
              "      <th></th>\n",
              "      <th></th>\n",
              "      <th></th>\n",
              "      <th></th>\n",
              "      <th></th>\n",
              "      <th></th>\n",
              "      <th></th>\n",
              "      <th></th>\n",
              "      <th></th>\n",
              "      <th></th>\n",
              "      <th></th>\n",
              "      <th></th>\n",
              "      <th></th>\n",
              "    </tr>\n",
              "  </thead>\n",
              "  <tbody>\n",
              "    <tr>\n",
              "      <th>LUNG1-001</th>\n",
              "      <td>L</td>\n",
              "      <td>139.06</td>\n",
              "      <td>NaN</td>\n",
              "      <td>NaN</td>\n",
              "      <td>NaN</td>\n",
              "      <td>NaN</td>\n",
              "      <td>NaN</td>\n",
              "      <td>3.0</td>\n",
              "      <td>1.0</td>\n",
              "      <td>Rad4</td>\n",
              "      <td>...</td>\n",
              "      <td>134.0</td>\n",
              "      <td>0.976563</td>\n",
              "      <td>0.976563</td>\n",
              "      <td>3.0</td>\n",
              "      <td>134.0</td>\n",
              "      <td>1.0</td>\n",
              "      <td>0</td>\n",
              "      <td>134</td>\n",
              "      <td>[[84, 85, 86, 87], [89]]</td>\n",
              "      <td>[[86], [88]]</td>\n",
              "    </tr>\n",
              "    <tr>\n",
              "      <th>LUNG1-002</th>\n",
              "      <td>R</td>\n",
              "      <td>340.30</td>\n",
              "      <td>NaN</td>\n",
              "      <td>NaN</td>\n",
              "      <td>NaN</td>\n",
              "      <td>NaN</td>\n",
              "      <td>NaN</td>\n",
              "      <td>3.0</td>\n",
              "      <td>1.0</td>\n",
              "      <td>Rad4</td>\n",
              "      <td>...</td>\n",
              "      <td>111.0</td>\n",
              "      <td>0.977000</td>\n",
              "      <td>0.977000</td>\n",
              "      <td>3.0</td>\n",
              "      <td>111.0</td>\n",
              "      <td>1.0</td>\n",
              "      <td>1</td>\n",
              "      <td>111</td>\n",
              "      <td>NaN</td>\n",
              "      <td>NaN</td>\n",
              "    </tr>\n",
              "    <tr>\n",
              "      <th>LUNG1-003</th>\n",
              "      <td>NaN</td>\n",
              "      <td>NaN</td>\n",
              "      <td>NaN</td>\n",
              "      <td>NaN</td>\n",
              "      <td>NaN</td>\n",
              "      <td>NaN</td>\n",
              "      <td>NaN</td>\n",
              "      <td>NaN</td>\n",
              "      <td>NaN</td>\n",
              "      <td>NaN</td>\n",
              "      <td>...</td>\n",
              "      <td>NaN</td>\n",
              "      <td>NaN</td>\n",
              "      <td>NaN</td>\n",
              "      <td>NaN</td>\n",
              "      <td>NaN</td>\n",
              "      <td>NaN</td>\n",
              "      <td>NaN</td>\n",
              "      <td>NaN</td>\n",
              "      <td>NaN</td>\n",
              "      <td>NaN</td>\n",
              "    </tr>\n",
              "    <tr>\n",
              "      <th>LUNG1-004</th>\n",
              "      <td>L</td>\n",
              "      <td>86.50</td>\n",
              "      <td>7.06</td>\n",
              "      <td>70.38</td>\n",
              "      <td>NaN</td>\n",
              "      <td>NaN</td>\n",
              "      <td>NaN</td>\n",
              "      <td>3.0</td>\n",
              "      <td>0.0</td>\n",
              "      <td>NaN</td>\n",
              "      <td>...</td>\n",
              "      <td>114.0</td>\n",
              "      <td>0.976563</td>\n",
              "      <td>0.976563</td>\n",
              "      <td>3.0</td>\n",
              "      <td>114.0</td>\n",
              "      <td>1.0</td>\n",
              "      <td>NaN</td>\n",
              "      <td>NaN</td>\n",
              "      <td>NaN</td>\n",
              "      <td>NaN</td>\n",
              "    </tr>\n",
              "    <tr>\n",
              "      <th>LUNG1-005</th>\n",
              "      <td>R</td>\n",
              "      <td>78.62</td>\n",
              "      <td>NaN</td>\n",
              "      <td>NaN</td>\n",
              "      <td>NaN</td>\n",
              "      <td>NaN</td>\n",
              "      <td>NaN</td>\n",
              "      <td>1.0</td>\n",
              "      <td>1.0</td>\n",
              "      <td>Rad4</td>\n",
              "      <td>...</td>\n",
              "      <td>91.0</td>\n",
              "      <td>0.977000</td>\n",
              "      <td>0.977000</td>\n",
              "      <td>3.0</td>\n",
              "      <td>91.0</td>\n",
              "      <td>1.0</td>\n",
              "      <td>0</td>\n",
              "      <td>91</td>\n",
              "      <td>[[26, 27, 28, 29, 30, 31, 32, 33, 34, 35, 36, ...</td>\n",
              "      <td>NaN</td>\n",
              "    </tr>\n",
              "    <tr>\n",
              "      <th>LUNG1-006</th>\n",
              "      <td>L</td>\n",
              "      <td>75.90</td>\n",
              "      <td>NaN</td>\n",
              "      <td>NaN</td>\n",
              "      <td>NaN</td>\n",
              "      <td>NaN</td>\n",
              "      <td>NaN</td>\n",
              "      <td>1.0</td>\n",
              "      <td>0.0</td>\n",
              "      <td>NaN</td>\n",
              "      <td>...</td>\n",
              "      <td>114.0</td>\n",
              "      <td>0.977000</td>\n",
              "      <td>0.977000</td>\n",
              "      <td>3.0</td>\n",
              "      <td>114.0</td>\n",
              "      <td>1.0</td>\n",
              "      <td>NaN</td>\n",
              "      <td>NaN</td>\n",
              "      <td>NaN</td>\n",
              "      <td>NaN</td>\n",
              "    </tr>\n",
              "    <tr>\n",
              "      <th>LUNG1-007</th>\n",
              "      <td>R</td>\n",
              "      <td>9.62</td>\n",
              "      <td>15.38</td>\n",
              "      <td>NaN</td>\n",
              "      <td>NaN</td>\n",
              "      <td>NaN</td>\n",
              "      <td>NaN</td>\n",
              "      <td>1.0</td>\n",
              "      <td>0.0</td>\n",
              "      <td>NaN</td>\n",
              "      <td>...</td>\n",
              "      <td>129.0</td>\n",
              "      <td>0.976563</td>\n",
              "      <td>0.976563</td>\n",
              "      <td>3.0</td>\n",
              "      <td>129.0</td>\n",
              "      <td>1.0</td>\n",
              "      <td>NaN</td>\n",
              "      <td>NaN</td>\n",
              "      <td>NaN</td>\n",
              "      <td>NaN</td>\n",
              "    </tr>\n",
              "    <tr>\n",
              "      <th>LUNG1-008</th>\n",
              "      <td>R</td>\n",
              "      <td>37.48</td>\n",
              "      <td>NaN</td>\n",
              "      <td>NaN</td>\n",
              "      <td>NaN</td>\n",
              "      <td>NaN</td>\n",
              "      <td>NaN</td>\n",
              "      <td>3.0</td>\n",
              "      <td>1.0</td>\n",
              "      <td>Rad4</td>\n",
              "      <td>...</td>\n",
              "      <td>114.0</td>\n",
              "      <td>0.977000</td>\n",
              "      <td>0.977000</td>\n",
              "      <td>3.0</td>\n",
              "      <td>114.0</td>\n",
              "      <td>1.0</td>\n",
              "      <td>1</td>\n",
              "      <td>114</td>\n",
              "      <td>NaN</td>\n",
              "      <td>NaN</td>\n",
              "    </tr>\n",
              "    <tr>\n",
              "      <th>LUNG1-009</th>\n",
              "      <td>R</td>\n",
              "      <td>91.85</td>\n",
              "      <td>32.48</td>\n",
              "      <td>37.24</td>\n",
              "      <td>83.87</td>\n",
              "      <td>NaN</td>\n",
              "      <td>NaN</td>\n",
              "      <td>3.0</td>\n",
              "      <td>0.0</td>\n",
              "      <td>NaN</td>\n",
              "      <td>...</td>\n",
              "      <td>105.0</td>\n",
              "      <td>0.977000</td>\n",
              "      <td>0.977000</td>\n",
              "      <td>3.0</td>\n",
              "      <td>105.0</td>\n",
              "      <td>1.0</td>\n",
              "      <td>NaN</td>\n",
              "      <td>NaN</td>\n",
              "      <td>NaN</td>\n",
              "      <td>NaN</td>\n",
              "    </tr>\n",
              "    <tr>\n",
              "      <th>LUNG1-010</th>\n",
              "      <td>R</td>\n",
              "      <td>15.50</td>\n",
              "      <td>5.72</td>\n",
              "      <td>NaN</td>\n",
              "      <td>NaN</td>\n",
              "      <td>NaN</td>\n",
              "      <td>NaN</td>\n",
              "      <td>1.0</td>\n",
              "      <td>0.0</td>\n",
              "      <td>NaN</td>\n",
              "      <td>...</td>\n",
              "      <td>91.0</td>\n",
              "      <td>0.977000</td>\n",
              "      <td>0.977000</td>\n",
              "      <td>3.0</td>\n",
              "      <td>91.0</td>\n",
              "      <td>1.0</td>\n",
              "      <td>NaN</td>\n",
              "      <td>NaN</td>\n",
              "      <td>NaN</td>\n",
              "      <td>NaN</td>\n",
              "    </tr>\n",
              "  </tbody>\n",
              "</table>\n",
              "<p>10 rows × 39 columns</p>\n",
              "</div>"
            ],
            "text/plain": [
              "          Carcinoma.Laterality    GTV1   GTV2   GTV3   GTV4  GTV5  GTV6  \\\n",
              "PatientID                                                                 \n",
              "LUNG1-001                    L  139.06    NaN    NaN    NaN   NaN   NaN   \n",
              "LUNG1-002                    R  340.30    NaN    NaN    NaN   NaN   NaN   \n",
              "LUNG1-003                  NaN     NaN    NaN    NaN    NaN   NaN   NaN   \n",
              "LUNG1-004                    L   86.50   7.06  70.38    NaN   NaN   NaN   \n",
              "LUNG1-005                    R   78.62    NaN    NaN    NaN   NaN   NaN   \n",
              "LUNG1-006                    L   75.90    NaN    NaN    NaN   NaN   NaN   \n",
              "LUNG1-007                    R    9.62  15.38    NaN    NaN   NaN   NaN   \n",
              "LUNG1-008                    R   37.48    NaN    NaN    NaN   NaN   NaN   \n",
              "LUNG1-009                    R   91.85  32.48  37.24  83.87   NaN   NaN   \n",
              "LUNG1-010                    R   15.50   5.72    NaN    NaN   NaN   NaN   \n",
              "\n",
              "           Tumor.Location  Effusion.Event Primary.Effusion.Reviewer  ...  \\\n",
              "PatientID                                                            ...   \n",
              "LUNG1-001             3.0             1.0                      Rad4  ...   \n",
              "LUNG1-002             3.0             1.0                      Rad4  ...   \n",
              "LUNG1-003             NaN             NaN                       NaN  ...   \n",
              "LUNG1-004             3.0             0.0                       NaN  ...   \n",
              "LUNG1-005             1.0             1.0                      Rad4  ...   \n",
              "LUNG1-006             1.0             0.0                       NaN  ...   \n",
              "LUNG1-007             1.0             0.0                       NaN  ...   \n",
              "LUNG1-008             3.0             1.0                      Rad4  ...   \n",
              "LUNG1-009             3.0             0.0                       NaN  ...   \n",
              "LUNG1-010             1.0             0.0                       NaN  ...   \n",
              "\n",
              "           Dim.z Voxel.Space.x  Voxel.Space.y Voxel.space.z  Feature.Slices  \\\n",
              "PatientID                                                                     \n",
              "LUNG1-001  134.0      0.976563       0.976563           3.0           134.0   \n",
              "LUNG1-002  111.0      0.977000       0.977000           3.0           111.0   \n",
              "LUNG1-003    NaN           NaN            NaN           NaN             NaN   \n",
              "LUNG1-004  114.0      0.976563       0.976563           3.0           114.0   \n",
              "LUNG1-005   91.0      0.977000       0.977000           3.0            91.0   \n",
              "LUNG1-006  114.0      0.977000       0.977000           3.0           114.0   \n",
              "LUNG1-007  129.0      0.976563       0.976563           3.0           129.0   \n",
              "LUNG1-008  114.0      0.977000       0.977000           3.0           114.0   \n",
              "LUNG1-009  105.0      0.977000       0.977000           3.0           105.0   \n",
              "LUNG1-010   91.0      0.977000       0.977000           3.0            91.0   \n",
              "\n",
              "           Valid.Feature  Valid.Label  Label.Slices  \\\n",
              "PatientID                                             \n",
              "LUNG1-001            1.0            0           134   \n",
              "LUNG1-002            1.0            1           111   \n",
              "LUNG1-003            NaN          NaN           NaN   \n",
              "LUNG1-004            1.0          NaN           NaN   \n",
              "LUNG1-005            1.0            0            91   \n",
              "LUNG1-006            1.0          NaN           NaN   \n",
              "LUNG1-007            1.0          NaN           NaN   \n",
              "LUNG1-008            1.0            1           114   \n",
              "LUNG1-009            1.0          NaN           NaN   \n",
              "LUNG1-010            1.0          NaN           NaN   \n",
              "\n",
              "                                                  Label.Gaps Label.Outliers  \n",
              "PatientID                                                                    \n",
              "LUNG1-001                           [[84, 85, 86, 87], [89]]   [[86], [88]]  \n",
              "LUNG1-002                                                NaN            NaN  \n",
              "LUNG1-003                                                NaN            NaN  \n",
              "LUNG1-004                                                NaN            NaN  \n",
              "LUNG1-005  [[26, 27, 28, 29, 30, 31, 32, 33, 34, 35, 36, ...            NaN  \n",
              "LUNG1-006                                                NaN            NaN  \n",
              "LUNG1-007                                                NaN            NaN  \n",
              "LUNG1-008                                                NaN            NaN  \n",
              "LUNG1-009                                                NaN            NaN  \n",
              "LUNG1-010                                                NaN            NaN  \n",
              "\n",
              "[10 rows x 39 columns]"
            ]
          },
          "execution_count": 33,
          "metadata": {},
          "output_type": "execute_result"
        }
      ],
      "source": [
        "final_df = pd.merge(\n",
        "    df, features_labels_df, left_index=True, right_index=True, how=\"left\"\n",
        ")\n",
        "\n",
        "final_df.head(10)"
      ]
    },
    {
      "cell_type": "markdown",
      "metadata": {},
      "source": [
        "Saving clean version to build dataset.\n"
      ]
    },
    {
      "cell_type": "code",
      "execution_count": 34,
      "metadata": {},
      "outputs": [
        {
          "name": "stderr",
          "output_type": "stream",
          "text": [
            "/var/folders/cc/_v9j333n6p14jdvsby20rhkw0000gn/T/ipykernel_29623/4145641273.py:4: SettingWithCopyWarning: \n",
            "A value is trying to be set on a copy of a slice from a DataFrame\n",
            "\n",
            "See the caveats in the documentation: https://pandas.pydata.org/pandas-docs/stable/user_guide/indexing.html#returning-a-view-versus-a-copy\n",
            "  clean_df.drop(\n"
          ]
        }
      ],
      "source": [
        "clean_df = final_df.loc[\n",
        "    (final_df[\"Valid.Feature\"] > 0) & (final_df[\"Valid.Label\"] != 0)\n",
        "]\n",
        "clean_df.drop(\n",
        "    clean_df.loc[\n",
        "        (clean_df[\"Feature.Slices\"] > 136) | (clean_df[\"Feature.Slices\"] < 88)\n",
        "    ].index,\n",
        "    axis=0,\n",
        "    inplace=True,\n",
        ")\n",
        "\n",
        "clean_df.loc[\n",
        "    \"LUNG1-170\", \"Effusion.Event\"\n",
        "] = 0.0  # correction from radlogix radiologist\n",
        "\n",
        "clean_df.reset_index(inplace=True)\n",
        "clean_df.to_csv(\"./_docs/clean_df_on_latest_ds.csv\", index=False)"
      ]
    },
    {
      "cell_type": "code",
      "execution_count": 44,
      "metadata": {},
      "outputs": [
        {
          "name": "stdout",
          "output_type": "stream",
          "text": [
            "290\n"
          ]
        }
      ],
      "source": [
        "clean_df.loc[(clean_df[\"Dim.z\"] < 140) & ((clean_df[\"Dim.z\"] > 100))]\n",
        "print(len(clean_df.loc[(clean_df[\"Dim.z\"] < 140) & ((clean_df[\"Dim.z\"] > 100))]))"
      ]
    },
    {
      "attachments": {},
      "cell_type": "markdown",
      "metadata": {
        "id": "rVMgSOBZpCaf"
      },
      "source": [
        "Saving to csv.\n"
      ]
    },
    {
      "cell_type": "code",
      "execution_count": 47,
      "metadata": {
        "id": "tvm2Z6t6ooCd"
      },
      "outputs": [],
      "source": [
        "final_df.reset_index(inplace=True)\n",
        "final_df.to_csv(\"./_docs/dataset_features_and_labels_report_UPDATED.csv\", index=False)"
      ]
    }
  ],
  "metadata": {
    "colab": {
      "authorship_tag": "ABX9TyOD2Tijn50m9TTjx7TFt/xF",
      "include_colab_link": true,
      "provenance": [],
      "toc_visible": true
    },
    "kernelspec": {
      "display_name": "Python 3",
      "name": "python3"
    },
    "language_info": {
      "codemirror_mode": {
        "name": "ipython",
        "version": 3
      },
      "file_extension": ".py",
      "mimetype": "text/x-python",
      "name": "python",
      "nbconvert_exporter": "python",
      "pygments_lexer": "ipython3",
      "version": "3.10.11"
    }
  },
  "nbformat": 4,
  "nbformat_minor": 0
}
