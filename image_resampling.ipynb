{
 "cells": [
  {
   "cell_type": "code",
   "execution_count": 42,
   "metadata": {},
   "outputs": [],
   "source": [
    "import SimpleITK as sitk\n",
    "import numpy as np\n",
    "import matplotlib.pyplot as plt\n",
    "\n",
    "%matplotlib inline"
   ]
  },
  {
   "cell_type": "code",
   "execution_count": 80,
   "metadata": {},
   "outputs": [],
   "source": [
    "label_lg = \"/Users/dutking/LOCAL/AI_uni/radlogix/dataset/labels/LUNG1-001/LUNG1-001_effusion_first_reviewer.nii.gz\"\n",
    "feature_lg = \"/Users/dutking/LOCAL/AI_uni/radlogix/dataset/features/LUNG1-001/09-18-2008-StudyID-NA-69331/0.000000-NA-82046\"\n",
    "\n",
    "label_sm = \"/Users/dutking/LOCAL/AI_uni/radlogix/dataset/effusions_052023/LUNG1-285/LUNG1285_effusion_second_reviewer.nii.gz\"\n",
    "feature_sm = \"/Users/dutking/LOCAL/AI_uni/radlogix/dataset/features/LUNG1-285/08-03-2008-StudyID-NA-05059/0.000000-NA-50027\"\n",
    "\n",
    "TARGET_SLICES = 192\n",
    "DIMENSION = 256\n",
    "PAD_FILLER = -1024"
   ]
  },
  {
   "cell_type": "code",
   "execution_count": 43,
   "metadata": {},
   "outputs": [],
   "source": [
    "v = sitk.ImageViewer()\n",
    "v.SetFileExtension(\".nii\")\n",
    "v.SetApplication(\"/Applications/Fiji.app/Contents/MacOS/ImageJ-macosx\")"
   ]
  },
  {
   "cell_type": "code",
   "execution_count": 44,
   "metadata": {},
   "outputs": [],
   "source": [
    "def get_feature(dicom_folder):\n",
    "    reader = sitk.ImageSeriesReader()\n",
    "    dicom_names = reader.GetGDCMSeriesFileNames(dicom_folder)\n",
    "    reader.SetFileNames(dicom_names)\n",
    "    image = reader.Execute()\n",
    "    image = sitk.DICOMOrient(image, \"LPS\")\n",
    "    return image\n",
    "\n",
    "\n",
    "def get_label(file):\n",
    "    image = sitk.ReadImage(file)\n",
    "    image = sitk.DICOMOrient(image, \"LPS\")\n",
    "    return image"
   ]
  },
  {
   "cell_type": "code",
   "execution_count": 45,
   "metadata": {},
   "outputs": [],
   "source": [
    "def resample_spacing(image):\n",
    "    resample = sitk.ResampleImageFilter()\n",
    "    resample.SetInterpolator(sitk.sitkLinear)\n",
    "    resample.SetOutputDirection(image.GetDirection())\n",
    "    resample.SetOutputOrigin(image.GetOrigin())\n",
    "    new_spacing = [1, 1, 1]\n",
    "    resample.SetOutputSpacing(new_spacing)\n",
    "\n",
    "    orig_size = np.array(image.GetSize(), dtype=np.int32)\n",
    "    orig_spacing = image.GetSpacing()\n",
    "    new_size = orig_size * (np.array(orig_spacing) / np.array(new_spacing))\n",
    "    new_size = np.ceil(new_size).astype(np.int32)  #  Image dimensions are in integers\n",
    "    new_size = [int(s) for s in new_size]\n",
    "    resample.SetSize(new_size)\n",
    "\n",
    "    new_image = resample.Execute(image)\n",
    "    return new_image"
   ]
  },
  {
   "cell_type": "code",
   "execution_count": 46,
   "metadata": {},
   "outputs": [],
   "source": [
    "def resample_size(patient_CT, resize_factor):\n",
    "    # original_CT = sitk.ReadImage(patient_CT,sitk.sitkInt32)\n",
    "    original_CT = patient_CT\n",
    "    dimension = original_CT.GetDimension()\n",
    "    reference_physical_size = np.zeros(original_CT.GetDimension())\n",
    "    reference_physical_size[:] = [\n",
    "        (sz - 1) * spc if sz * spc > mx else mx\n",
    "        for sz, spc, mx in zip(\n",
    "            original_CT.GetSize(), original_CT.GetSpacing(), reference_physical_size\n",
    "        )\n",
    "    ]\n",
    "\n",
    "    reference_origin = original_CT.GetOrigin()\n",
    "    reference_direction = original_CT.GetDirection()\n",
    "\n",
    "    reference_size = [round(sz / resize_factor) for sz in original_CT.GetSize()]\n",
    "    reference_spacing = [\n",
    "        phys_sz / (sz - 1)\n",
    "        for sz, phys_sz in zip(reference_size, reference_physical_size)\n",
    "    ]\n",
    "\n",
    "    reference_image = sitk.Image(reference_size, original_CT.GetPixelIDValue())\n",
    "    reference_image.SetOrigin(reference_origin)\n",
    "    reference_image.SetSpacing(reference_spacing)\n",
    "    reference_image.SetDirection(reference_direction)\n",
    "\n",
    "    reference_center = np.array(\n",
    "        reference_image.TransformContinuousIndexToPhysicalPoint(\n",
    "            np.array(reference_image.GetSize()) / 2.0\n",
    "        )\n",
    "    )\n",
    "\n",
    "    transform = sitk.AffineTransform(dimension)\n",
    "    transform.SetMatrix(original_CT.GetDirection())\n",
    "\n",
    "    transform.SetTranslation(np.array(original_CT.GetOrigin()) - reference_origin)\n",
    "\n",
    "    centering_transform = sitk.TranslationTransform(dimension)\n",
    "    img_center = np.array(\n",
    "        original_CT.TransformContinuousIndexToPhysicalPoint(\n",
    "            np.array(original_CT.GetSize()) / 2.0\n",
    "        )\n",
    "    )\n",
    "    centering_transform.SetOffset(\n",
    "        np.array(transform.GetInverse().TransformPoint(img_center) - reference_center)\n",
    "    )\n",
    "    centered_transform = sitk.CompositeTransform(transform)\n",
    "    centered_transform.AddTransform(centering_transform)\n",
    "\n",
    "    # sitk.Show(sitk.Resample(original_CT, reference_image, centered_transform, sitk.sitkLinear, 0.0))\n",
    "\n",
    "    return sitk.Resample(\n",
    "        original_CT, reference_image, centered_transform, sitk.sitkLinear, 0.0\n",
    "    )"
   ]
  },
  {
   "cell_type": "code",
   "execution_count": 47,
   "metadata": {},
   "outputs": [],
   "source": [
    "def plot_overlay(feature, label):\n",
    "    mid_slice = int(feature.shape[0] / 2)\n",
    "    print(mid_slice)\n",
    "    feature_slice = feature[mid_slice, :, :]\n",
    "    label_slice = label[mid_slice, :, :]\n",
    "    fig, ax = plt.subplots(nrows=1, ncols=2, figsize=(12, 5))\n",
    "    ax[0].imshow(feature_slice, cmap=\"bone\", interpolation=\"none\")\n",
    "    ax[1].imshow(feature_slice, cmap=\"bone\", interpolation=\"none\")\n",
    "    ax[1].imshow(label_slice, cmap=\"prism\", vmin=0, vmax=1, alpha=0.5 * (label_slice))\n",
    "    plt.show()"
   ]
  },
  {
   "cell_type": "code",
   "execution_count": 92,
   "metadata": {},
   "outputs": [],
   "source": [
    "def set_final_size(image, target_slices, dimension, pad_filler):\n",
    "    image_size = image.GetSize()\n",
    "    z = image_size[-1]\n",
    "    z_diff = target_slices - z\n",
    "    if z_diff < 0:\n",
    "        cropped = crop_z(image, np.abs(z_diff))\n",
    "        return pad_xy(cropped, dimension, pad_filler)\n",
    "    elif z_diff > 0:\n",
    "        padded = pad_z(image, np.abs(z_diff), pad_filler)\n",
    "        return pad_xy(padded, dimension, pad_filler)\n",
    "\n",
    "    return pad_xy(image, dimension, pad_filler)\n",
    "\n",
    "\n",
    "def pad_z(image, z_diff, pad_filler):\n",
    "    z_top_pad = int(np.ceil(z_diff / 2))\n",
    "    z_bottom_pad = int(np.floor(z_diff / 2))\n",
    "    padded_image = sitk.ConstantPad(\n",
    "        image, (0, 0, z_bottom_pad), (0, 0, z_top_pad), pad_filler\n",
    "    )\n",
    "    return padded_image\n",
    "\n",
    "\n",
    "def crop_z(image, z_diff):\n",
    "    z_top_crop = int(np.ceil(z_diff / 2))\n",
    "    z_bottom_crop = int(np.floor(z_diff / 2))\n",
    "    cropped_image = sitk.Crop(image, (0, 0, z_bottom_crop), (0, 0, z_top_crop))\n",
    "    return cropped_image\n",
    "\n",
    "\n",
    "def pad_xy(image, dimension, pad_filler):\n",
    "    image_size = image.GetSize()\n",
    "    xy_pad1 = int(np.ceil((dimension - image_size[0]) / 2))  # 256-250=6\n",
    "    xy_pad2 = int(np.floor((dimension - image_size[0]) / 2))\n",
    "    padded_image = sitk.ConstantPad(\n",
    "        image, (xy_pad1, xy_pad1, 0), (xy_pad2, xy_pad2, 0), pad_filler\n",
    "    )\n",
    "    return padded_image"
   ]
  },
  {
   "cell_type": "code",
   "execution_count": 93,
   "metadata": {},
   "outputs": [],
   "source": [
    "# LARGEST SAMPLE\n",
    "feature_lg_img = get_feature(feature_lg)\n",
    "feature_lg_sp = resample_spacing(feature_lg_img)\n",
    "feature_lg_sz = resample_size(feature_lg_sp, 2)\n",
    "# feature_lg_arr = sitk.GetArrayFromImage(feature_lg_sz)\n",
    "feature_lg_pd = set_final_size(feature_lg_sz, TARGET_SLICES)\n",
    "feature_lg_result = feature_lg_pd\n",
    "\n",
    "label_lg_img = get_label(label_lg)\n",
    "label_lg_sp = resample_spacing(label_lg_img)\n",
    "label_lg_sz = resample_size(label_lg_sp, 2)\n",
    "# label_lg_arr = sitk.GetArrayFromImage(label_lg_sz)\n",
    "label_lg_pd = set_final_size(label_lg_sz, TARGET_SLICES)\n",
    "label_lg_result = label_lg_pd\n",
    "\n",
    "# SMALLEST SAMPLE\n",
    "feature_sm_img = get_feature(feature_sm)\n",
    "feature_sm_sp = resample_spacing(feature_sm_img)\n",
    "feature_sm_sz = resample_size(feature_sm_sp, 2)\n",
    "# feature_sm_arr = sitk.GetArrayFromImage(feature_sm_sz)\n",
    "feature_sm_pd = set_final_size(feature_sm_sz, TARGET_SLICES)\n",
    "feature_sm_result = feature_sm_pd\n",
    "\n",
    "label_sm_img = get_label(label_sm)\n",
    "label_sm_sp = resample_spacing(label_sm_img)\n",
    "label_sm_sz = resample_size(label_sm_sp, 2)\n",
    "# label_sm_arr = sitk.GetArrayFromImage(label_sm_sz)\n",
    "label_sm_pd = set_final_size(label_sm_sz, TARGET_SLICES)\n",
    "label_sm_result = label_sm_pd"
   ]
  },
  {
   "cell_type": "code",
   "execution_count": 94,
   "metadata": {},
   "outputs": [
    {
     "name": "stdout",
     "output_type": "stream",
     "text": [
      "LARGEST SAMPLE\n",
      "(512, 512, 134) (0.9765625, 0.9765625, 3.0)\n",
      "(256, 256, 192) (2.004016064257028, 2.004016064257028, 2.005)\n",
      "(256, 256, 192) (2.004016064257028, 2.004016064257028, 2.005)\n",
      "SMALLEST SAMPLE\n",
      "(512, 512, 90) (0.9765625, 0.9765625, 3.0)\n",
      "(256, 256, 192) (2.004016064257028, 2.004016064257028, 2.0074626865671643)\n",
      "(256, 256, 192) (2.004016064257028, 2.004016064257028, 2.0074626865671643)\n"
     ]
    }
   ],
   "source": [
    "print(\"LARGEST SAMPLE\")\n",
    "print(\n",
    "    feature_lg_img.GetSize(),\n",
    "    feature_lg_img.GetSpacing(),\n",
    ")\n",
    "print(\n",
    "    feature_lg_result.GetSize(),\n",
    "    feature_lg_result.GetSpacing(),\n",
    ")\n",
    "print(\n",
    "    label_lg_result.GetSize(),\n",
    "    label_lg_result.GetSpacing(),\n",
    ")\n",
    "print(\"SMALLEST SAMPLE\")\n",
    "print(\n",
    "    feature_sm_img.GetSize(),\n",
    "    feature_sm_img.GetSpacing(),\n",
    ")\n",
    "print(\n",
    "    feature_sm_result.GetSize(),\n",
    "    feature_sm_result.GetSpacing(),\n",
    ")\n",
    "print(\n",
    "    label_sm_result.GetSize(),\n",
    "    label_sm_result.GetSpacing(),\n",
    ")"
   ]
  },
  {
   "cell_type": "code",
   "execution_count": 58,
   "metadata": {},
   "outputs": [
    {
     "name": "stderr",
     "output_type": "stream",
     "text": [
      "The operation couldn’t be completed. Unable to locate a Java Runtime that supports (null).\n",
      "Please visit http://www.java.com for information on installing Java.\n",
      "\n",
      "The operation couldn’t be completed. Unable to locate a Java Runtime that supports (null).\n",
      "Please visit http://www.java.com for information on installing Java.\n",
      "\n"
     ]
    },
    {
     "name": "stdout",
     "output_type": "stream",
     "text": [
      "Reading header\n",
      "Populating metadata table\n",
      "Populating core metadata\n",
      "Populating MetadataStore\n"
     ]
    }
   ],
   "source": [
    "v.Execute(feature_sm_result)"
   ]
  },
  {
   "cell_type": "code",
   "execution_count": 69,
   "metadata": {},
   "outputs": [],
   "source": [
    "writer = sitk.ImageFileWriter()\n",
    "writer.SetImageIO(\"NiftiImageIO\")\n",
    "writer.SetFileName(\"/Users/dutking/LOCAL/AI_uni/radlogix/temp/f_lg.nii\")\n",
    "writer.Execute(feature_lg_result)\n",
    "writer.SetFileName(\"/Users/dutking/LOCAL/AI_uni/radlogix/temp/l_lg.nii\")\n",
    "writer.Execute(label_lg_result)\n",
    "writer.SetFileName(\"/Users/dutking/LOCAL/AI_uni/radlogix/temp/f_sm.nii\")\n",
    "writer.Execute(feature_sm_result)\n",
    "writer.SetFileName(\"/Users/dutking/LOCAL/AI_uni/radlogix/temp/l_sm.nii\")\n",
    "writer.Execute(label_sm_result)"
   ]
  }
 ],
 "metadata": {
  "kernelspec": {
   "display_name": "base",
   "language": "python",
   "name": "python3"
  },
  "language_info": {
   "codemirror_mode": {
    "name": "ipython",
    "version": 3
   },
   "file_extension": ".py",
   "mimetype": "text/x-python",
   "name": "python",
   "nbconvert_exporter": "python",
   "pygments_lexer": "ipython3",
   "version": "3.10.11"
  },
  "orig_nbformat": 4
 },
 "nbformat": 4,
 "nbformat_minor": 2
}
