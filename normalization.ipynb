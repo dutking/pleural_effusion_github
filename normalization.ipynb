{
 "cells": [
  {
   "cell_type": "code",
   "execution_count": 1,
   "metadata": {},
   "outputs": [],
   "source": [
    "import tensorflow as tf\n",
    "import numpy as np"
   ]
  },
  {
   "cell_type": "code",
   "execution_count": 99,
   "metadata": {},
   "outputs": [],
   "source": [
    "#ALTERNATIVE\n",
    "def parse_record(record):\n",
    "    name_to_features = {\n",
    "        'dimZ': tf.io.FixedLenFeature([], tf.int64),\n",
    "        'dimX': tf.io.FixedLenFeature([], tf.int64),\n",
    "        'dimY': tf.io.FixedLenFeature([], tf.int64),\n",
    "        'channels': tf.io.FixedLenFeature([], tf.int64),\n",
    "        'label': tf.io.FixedLenFeature([], tf.string),\n",
    "        'feature': tf.io.FixedLenFeature([], tf.string),\n",
    "    }\n",
    "    return tf.io.parse_single_example(record, name_to_features)\n",
    "\n",
    "def decode_record(record):\n",
    "    feature = tf.io.decode_raw(\n",
    "        record['feature'], out_type='int16', little_endian=True, fixed_length=None, name=None\n",
    "    )\n",
    "    label = tf.io.decode_raw(\n",
    "        record['label'], out_type='int16', little_endian=True, fixed_length=None, name=None\n",
    "    )\n",
    "    dimZ = record['dimZ']\n",
    "    dimX = record['dimX']\n",
    "    dimY = record['dimY']\n",
    "    channels = record['channels']\n",
    "    print(dimZ, dimX, dimY, channels)\n",
    "    label = tf.reshape(label, (dimZ, dimX, dimY, channels))\n",
    "    feature = tf.reshape(feature, (dimZ, dimX, dimY, channels))\n",
    "    #label.set_shape(dimZ, dimX, dimY, channels)\n",
    "    #feature.set_shape(dimZ, dimX, dimY, channels)\n",
    "    return (feature, label)"
   ]
  },
  {
   "cell_type": "code",
   "execution_count": 137,
   "metadata": {},
   "outputs": [],
   "source": [
    "def parse_record(record):\n",
    "    name_to_features = {\n",
    "        'shape': tf.io.FixedLenFeature([], tf.string),\n",
    "        'label': tf.io.FixedLenFeature([], tf.string),\n",
    "        'feature': tf.io.FixedLenFeature([], tf.string),\n",
    "    }\n",
    "    return tf.io.parse_single_example(record, name_to_features)\n",
    "\n",
    "def decode_record(record):\n",
    "    feature = tf.io.decode_raw(\n",
    "        record['feature'], out_type='int16', little_endian=True, fixed_length=None, name=None\n",
    "    )\n",
    "    label = tf.io.decode_raw(\n",
    "        record['label'], out_type='int16', little_endian=True, fixed_length=None, name=None\n",
    "    )\n",
    "    shape = tf.io.decode_raw(\n",
    "        record['shape'], out_type='int64', little_endian=True, fixed_length=None, name=None\n",
    "    )\n",
    "\n",
    "    label = tf.reshape(label, shape)\n",
    "    feature = tf.reshape(feature, shape)\n",
    "    label.set_shape((64,256,256,1))\n",
    "    feature.set_shape((64,256,256,1))\n",
    "    return (feature, label)\n",
    "\n",
    "def reset_shape(x, y, shape):\n",
    "    print(y)\n",
    "    x.set_shape((None,None,None,None))\n",
    "    y.set_shape((None,None,None,None))\n",
    "    return x, y"
   ]
  },
  {
   "cell_type": "code",
   "execution_count": 142,
   "metadata": {},
   "outputs": [],
   "source": [
    "def printme(x,y):\n",
    "    print('FEATURE', tf.reduce_min(x), tf.reduce_max(x))\n",
    "    print('LABEL', tf.reduce_min(y), tf.reduce_max(y))\n",
    "    return x, y"
   ]
  },
  {
   "cell_type": "code",
   "execution_count": 138,
   "metadata": {},
   "outputs": [],
   "source": [
    "#ds_path = '/content/drive/MyDrive/RADLogix/dataset'\n",
    "ds_path = '/Users/dutking/LOCAL/AI_uni/radlogix/dataset/tfrecords'\n",
    "train_ds_file = 'train.tfrecords'\n",
    "val_ds_file = 'val.tfrecords'\n",
    "test_ds_file = 'test.tfrecords'\n",
    "\n",
    "with tf.device(\"CPU\"):\n",
    "  train_ds = tf.data.TFRecordDataset(f\"{ds_path}/{train_ds_file}\", compression_type=\"GZIP\").map(parse_record).map(decode_record)#.map(printme)\n",
    "\n",
    " \n",
    "  \n",
    "  #val_ds = tf.data.TFRecordDataset(f\"{ds_path}/{val_ds_file}\", compression_type=\"GZIP\").map(parse_record, num_parallel_calls=tf.data.AUTOTUNE).map(decode_record, num_parallel_calls=tf.data.AUTOTUNE).cache().shuffle(4, reshuffle_each_iteration = True).batch(1).prefetch(tf.data.AUTOTUNE)\n",
    "  \n",
    "  #test_ds = tf.data.TFRecordDataset(f\"{ds_path}/{test_ds_file}\", compression_type=\"GZIP\").map(parse_record, num_parallel_calls=tf.data.AUTOTUNE).map(decode_record, num_parallel_calls=tf.data.AUTOTUNE).cache().shuffle(4, reshuffle_each_iteration = True).batch(1).prefetch(tf.data.AUTOTUNE)"
   ]
  },
  {
   "cell_type": "code",
   "execution_count": 143,
   "metadata": {},
   "outputs": [
    {
     "name": "stdout",
     "output_type": "stream",
     "text": [
      "FEATURE tf.Tensor(-960, shape=(), dtype=int16) tf.Tensor(50, shape=(), dtype=int16)\n",
      "LABEL tf.Tensor(0, shape=(), dtype=int16) tf.Tensor(1, shape=(), dtype=int16)\n"
     ]
    }
   ],
   "source": [
    "for x,y in train_ds.take(1):\n",
    "    printme(x,y)"
   ]
  },
  {
   "cell_type": "code",
   "execution_count": 139,
   "metadata": {},
   "outputs": [],
   "source": [
    "norm_ds = train_ds.map(lambda x, y: x)\n",
    "normalization_layer = tf.keras.layers.Normalization(axis=None)\n",
    "normalization_layer.adapt(norm_ds)"
   ]
  },
  {
   "cell_type": "code",
   "execution_count": 140,
   "metadata": {},
   "outputs": [],
   "source": [
    "norm_train_ds = train_ds.map(lambda x,y: (normalization_layer(x), y))"
   ]
  },
  {
   "cell_type": "code",
   "execution_count": 144,
   "metadata": {},
   "outputs": [
    {
     "name": "stdout",
     "output_type": "stream",
     "text": [
      "FEATURE tf.Tensor(-2.6901324, shape=(), dtype=float32) tf.Tensor(0.5712873, shape=(), dtype=float32)\n",
      "LABEL tf.Tensor(0, shape=(), dtype=int16) tf.Tensor(1, shape=(), dtype=int16)\n"
     ]
    }
   ],
   "source": [
    "for x,y in norm_train_ds.take(1):\n",
    "    printme(x,y)"
   ]
  }
 ],
 "metadata": {
  "kernelspec": {
   "display_name": "Python 3",
   "language": "python",
   "name": "python3"
  },
  "language_info": {
   "codemirror_mode": {
    "name": "ipython",
    "version": 3
   },
   "file_extension": ".py",
   "mimetype": "text/x-python",
   "name": "python",
   "nbconvert_exporter": "python",
   "pygments_lexer": "ipython3",
   "version": "3.10.11"
  },
  "orig_nbformat": 4
 },
 "nbformat": 4,
 "nbformat_minor": 2
}
